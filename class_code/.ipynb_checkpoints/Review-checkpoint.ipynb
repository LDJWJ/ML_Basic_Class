{
 "cells": [
  {
   "cell_type": "code",
   "execution_count": 1,
   "metadata": {},
   "outputs": [
    {
     "name": "stdout",
     "output_type": "stream",
     "text": [
      "1.19.2\n",
      "3.3.2\n"
     ]
    }
   ],
   "source": [
    "import numpy as np\n",
    "import matplotlib.pyplot as plt\n",
    "import matplotlib\n",
    "print(np.__version__)\n",
    "print(matplotlib.__version__)"
   ]
  },
  {
   "cell_type": "code",
   "execution_count": 3,
   "metadata": {},
   "outputs": [
    {
     "name": "stdout",
     "output_type": "stream",
     "text": [
      "0.23.2\n",
      "0.1.9\n"
     ]
    }
   ],
   "source": [
    "# 설치가 안되어 있을 경우, 설치 필요.\n",
    "import mglearn\n",
    "import sklearn\n",
    "print( sklearn.__version__)\n",
    "print( mglearn.__version__)\n",
    "\n",
    "from sklearn.model_selection import train_test_split\n",
    "from sklearn.linear_model import LinearRegression"
   ]
  },
  {
   "cell_type": "code",
   "execution_count": 4,
   "metadata": {},
   "outputs": [
    {
     "name": "stdout",
     "output_type": "stream",
     "text": [
      "w[0]: 0.393906  b: -0.031804\n"
     ]
    },
    {
     "data": {
      "image/png": "[encoded data removed]",
      "text/plain": [
       "<Figure size 576x576 with 1 Axes>"
      ]
     },
     "metadata": {
      "needs_background": "light"
     },
     "output_type": "display_data"
    }
   ],
   "source": [
    "mglearn.plots.plot_linear_regression_wave()"
   ]
  },
  {
   "cell_type": "code",
   "execution_count": 6,
   "metadata": {},
   "outputs": [],
   "source": [
    "from sklearn.linear_model import LinearRegression\n",
    "from sklearn.datasets import load_boston"
   ]
  },
  {
   "cell_type": "code",
   "execution_count": 7,
   "metadata": {},
   "outputs": [],
   "source": [
    "boston = load_boston()\n",
    "X = boston.data       # 입력 데이터  - 문제\n",
    "y = boston.target     # 출력 데이터  - 답"
   ]
  },
  {
   "cell_type": "code",
   "execution_count": 8,
   "metadata": {},
   "outputs": [
    {
     "data": {
      "text/plain": [
       "(array([ 21.,  55.,  82., 154.,  84.,  41.,  30.,   8.,  10.,  21.]),\n",
       " array([ 5. ,  9.5, 14. , 18.5, 23. , 27.5, 32. , 36.5, 41. , 45.5, 50. ]),\n",
       " <BarContainer object of 10 artists>)"
      ]
     },
     "execution_count": 8,
     "metadata": {},
     "output_type": "execute_result"
    },
    {
     "data": {
      "image/png": "[encoded data removed]",
      "text/plain": [
       "<Figure size 432x288 with 1 Axes>"
      ]
     },
     "metadata": {
      "needs_background": "light"
     },
     "output_type": "display_data"
    }
   ],
   "source": [
    "plt.hist(y)"
   ]
  },
  {
   "cell_type": "code",
   "execution_count": 10,
   "metadata": {},
   "outputs": [],
   "source": [
    "X_train, X_test, y_train, y_test = train_test_split(X, \n",
    "                                                    y, \n",
    "                                           random_state=42)"
   ]
  },
  {
   "cell_type": "code",
   "execution_count": 11,
   "metadata": {},
   "outputs": [
    {
     "data": {
      "text/plain": [
       "array([28.83885359, 36.00783288, 15.08324755, 25.23090886, 18.87864064,\n",
       "       23.21398327, 17.5931124 , 14.30508093, 23.05438985, 20.62008346,\n",
       "       24.78514683, 18.66833668, -6.9788951 , 21.83575737, 19.20898992,\n",
       "       26.2868054 , 20.54379176,  5.65713224, 40.42358065, 17.64146116,\n",
       "       27.32258958, 30.05056174, 11.15013704, 24.11530393, 17.89145648,\n",
       "       15.79348591, 22.94743453, 14.2586068 , 22.26731194, 19.24709013,\n",
       "       22.26897546, 25.24344002, 25.69165643, 17.98759507, 16.70286649,\n",
       "       17.11631225, 31.19643534, 20.17835831, 23.71828436, 24.79196868,\n",
       "       13.94575895, 32.00389982, 42.53869791, 17.44523722, 27.15354457,\n",
       "       17.07482215, 13.89272021, 26.06440323, 20.36888769, 29.97813037,\n",
       "       21.35346608, 34.32287916, 15.88498671, 26.17757739, 39.50970314,\n",
       "       22.84123308, 18.95049088, 32.68913818, 25.02057949, 12.90539147,\n",
       "       22.76052302, 30.53884316, 31.60797905, 15.92162168, 20.50670563,\n",
       "       16.50798147, 20.50202198, 26.00723901, 30.63860954, 11.42877835,\n",
       "       20.53765181, 27.56249175, 10.85162601, 15.96871769, 23.87570192,\n",
       "        5.66369672, 21.47818991, 41.2820034 , 18.56559986,  9.08857252,\n",
       "       20.97848452, 13.0630057 , 20.99054395,  9.34050291, 23.13686588,\n",
       "       31.80106627, 19.10245917, 25.59186169, 29.14490119, 20.17571514,\n",
       "       25.5962149 ,  5.20301905, 20.16835681, 15.08546746, 12.8601543 ,\n",
       "       20.80904894, 24.68556943, -0.77450939, 13.33875673, 15.62703156,\n",
       "       22.21755358, 24.58188737, 10.77302163, 19.50068376, 23.23450396,\n",
       "       11.77388822, 18.36777924, 25.4383785 , 20.89079232, 24.08440617,\n",
       "        7.3658717 , 19.16424347, 21.93734133, 27.41191713, 32.50857196,\n",
       "       14.86885244, 35.05912525, 12.86075113, 20.83043572, 28.42077138,\n",
       "       15.65853688, 24.67196362,  3.28420892, 23.79879617, 25.73329894,\n",
       "       23.04815612, 24.73046824])"
      ]
     },
     "execution_count": 11,
     "metadata": {},
     "output_type": "execute_result"
    }
   ],
   "source": [
    "model = LinearRegression().fit(X_train, y_train)   # 학습\n",
    "pred = model.predict(X_test)\n",
    "pred"
   ]
  },
  {
   "cell_type": "code",
   "execution_count": 12,
   "metadata": {},
   "outputs": [],
   "source": [
    "import pandas as pd\n",
    "# MAE, MSE, RMSE, "
   ]
  },
  {
   "cell_type": "code",
   "execution_count": 13,
   "metadata": {},
   "outputs": [
    {
     "data": {
      "text/html": [
       "<div>\n",
       "<style scoped>\n",
       "    .dataframe tbody tr th:only-of-type {\n",
       "        vertical-align: middle;\n",
       "    }\n",
       "\n",
       "    .dataframe tbody tr th {\n",
       "        vertical-align: top;\n",
       "    }\n",
       "\n",
       "    .dataframe thead th {\n",
       "        text-align: right;\n",
       "    }\n",
       "</style>\n",
       "<table border=\"1\" class=\"dataframe\">\n",
       "  <thead>\n",
       "    <tr style=\"text-align: right;\">\n",
       "      <th></th>\n",
       "      <th>실제값</th>\n",
       "      <th>예측값</th>\n",
       "      <th>오차</th>\n",
       "    </tr>\n",
       "  </thead>\n",
       "  <tbody>\n",
       "    <tr>\n",
       "      <th>0</th>\n",
       "      <td>23.6</td>\n",
       "      <td>28.838854</td>\n",
       "      <td>-5.238854</td>\n",
       "    </tr>\n",
       "    <tr>\n",
       "      <th>1</th>\n",
       "      <td>32.4</td>\n",
       "      <td>36.007833</td>\n",
       "      <td>-3.607833</td>\n",
       "    </tr>\n",
       "    <tr>\n",
       "      <th>2</th>\n",
       "      <td>13.6</td>\n",
       "      <td>15.083248</td>\n",
       "      <td>-1.483248</td>\n",
       "    </tr>\n",
       "    <tr>\n",
       "      <th>3</th>\n",
       "      <td>22.8</td>\n",
       "      <td>25.230909</td>\n",
       "      <td>-2.430909</td>\n",
       "    </tr>\n",
       "    <tr>\n",
       "      <th>4</th>\n",
       "      <td>16.1</td>\n",
       "      <td>18.878641</td>\n",
       "      <td>-2.778641</td>\n",
       "    </tr>\n",
       "    <tr>\n",
       "      <th>...</th>\n",
       "      <td>...</td>\n",
       "      <td>...</td>\n",
       "      <td>...</td>\n",
       "    </tr>\n",
       "    <tr>\n",
       "      <th>122</th>\n",
       "      <td>8.8</td>\n",
       "      <td>3.284209</td>\n",
       "      <td>5.515791</td>\n",
       "    </tr>\n",
       "    <tr>\n",
       "      <th>123</th>\n",
       "      <td>19.2</td>\n",
       "      <td>23.798796</td>\n",
       "      <td>-4.598796</td>\n",
       "    </tr>\n",
       "    <tr>\n",
       "      <th>124</th>\n",
       "      <td>25.3</td>\n",
       "      <td>25.733299</td>\n",
       "      <td>-0.433299</td>\n",
       "    </tr>\n",
       "    <tr>\n",
       "      <th>125</th>\n",
       "      <td>20.4</td>\n",
       "      <td>23.048156</td>\n",
       "      <td>-2.648156</td>\n",
       "    </tr>\n",
       "    <tr>\n",
       "      <th>126</th>\n",
       "      <td>23.1</td>\n",
       "      <td>24.730468</td>\n",
       "      <td>-1.630468</td>\n",
       "    </tr>\n",
       "  </tbody>\n",
       "</table>\n",
       "<p>127 rows × 3 columns</p>\n",
       "</div>"
      ],
      "text/plain": [
       "      실제값        예측값        오차\n",
       "0    23.6  28.838854 -5.238854\n",
       "1    32.4  36.007833 -3.607833\n",
       "2    13.6  15.083248 -1.483248\n",
       "3    22.8  25.230909 -2.430909\n",
       "4    16.1  18.878641 -2.778641\n",
       "..    ...        ...       ...\n",
       "122   8.8   3.284209  5.515791\n",
       "123  19.2  23.798796 -4.598796\n",
       "124  25.3  25.733299 -0.433299\n",
       "125  20.4  23.048156 -2.648156\n",
       "126  23.1  24.730468 -1.630468\n",
       "\n",
       "[127 rows x 3 columns]"
      ]
     },
     "execution_count": 13,
     "metadata": {},
     "output_type": "execute_result"
    }
   ],
   "source": [
    "dict_dat = {\"실제값\":y_test, \"예측값\":pred, \"오차\":y_test - pred}\n",
    "dat = pd.DataFrame(dict_dat )\n",
    "dat"
   ]
  },
  {
   "cell_type": "code",
   "execution_count": 15,
   "metadata": {},
   "outputs": [
    {
     "data": {
      "text/html": [
       "<div>\n",
       "<style scoped>\n",
       "    .dataframe tbody tr th:only-of-type {\n",
       "        vertical-align: middle;\n",
       "    }\n",
       "\n",
       "    .dataframe tbody tr th {\n",
       "        vertical-align: top;\n",
       "    }\n",
       "\n",
       "    .dataframe thead th {\n",
       "        text-align: right;\n",
       "    }\n",
       "</style>\n",
       "<table border=\"1\" class=\"dataframe\">\n",
       "  <thead>\n",
       "    <tr style=\"text-align: right;\">\n",
       "      <th></th>\n",
       "      <th>실제값</th>\n",
       "      <th>예측값</th>\n",
       "      <th>오차</th>\n",
       "      <th>오차절대값</th>\n",
       "      <th>오차제곱</th>\n",
       "    </tr>\n",
       "  </thead>\n",
       "  <tbody>\n",
       "    <tr>\n",
       "      <th>0</th>\n",
       "      <td>23.6</td>\n",
       "      <td>28.838854</td>\n",
       "      <td>-5.238854</td>\n",
       "      <td>5.238854</td>\n",
       "      <td>27.445587</td>\n",
       "    </tr>\n",
       "    <tr>\n",
       "      <th>1</th>\n",
       "      <td>32.4</td>\n",
       "      <td>36.007833</td>\n",
       "      <td>-3.607833</td>\n",
       "      <td>3.607833</td>\n",
       "      <td>13.016458</td>\n",
       "    </tr>\n",
       "    <tr>\n",
       "      <th>2</th>\n",
       "      <td>13.6</td>\n",
       "      <td>15.083248</td>\n",
       "      <td>-1.483248</td>\n",
       "      <td>1.483248</td>\n",
       "      <td>2.200023</td>\n",
       "    </tr>\n",
       "    <tr>\n",
       "      <th>3</th>\n",
       "      <td>22.8</td>\n",
       "      <td>25.230909</td>\n",
       "      <td>-2.430909</td>\n",
       "      <td>2.430909</td>\n",
       "      <td>5.909318</td>\n",
       "    </tr>\n",
       "    <tr>\n",
       "      <th>4</th>\n",
       "      <td>16.1</td>\n",
       "      <td>18.878641</td>\n",
       "      <td>-2.778641</td>\n",
       "      <td>2.778641</td>\n",
       "      <td>7.720844</td>\n",
       "    </tr>\n",
       "    <tr>\n",
       "      <th>...</th>\n",
       "      <td>...</td>\n",
       "      <td>...</td>\n",
       "      <td>...</td>\n",
       "      <td>...</td>\n",
       "      <td>...</td>\n",
       "    </tr>\n",
       "    <tr>\n",
       "      <th>122</th>\n",
       "      <td>8.8</td>\n",
       "      <td>3.284209</td>\n",
       "      <td>5.515791</td>\n",
       "      <td>5.515791</td>\n",
       "      <td>30.423951</td>\n",
       "    </tr>\n",
       "    <tr>\n",
       "      <th>123</th>\n",
       "      <td>19.2</td>\n",
       "      <td>23.798796</td>\n",
       "      <td>-4.598796</td>\n",
       "      <td>4.598796</td>\n",
       "      <td>21.148926</td>\n",
       "    </tr>\n",
       "    <tr>\n",
       "      <th>124</th>\n",
       "      <td>25.3</td>\n",
       "      <td>25.733299</td>\n",
       "      <td>-0.433299</td>\n",
       "      <td>0.433299</td>\n",
       "      <td>0.187748</td>\n",
       "    </tr>\n",
       "    <tr>\n",
       "      <th>125</th>\n",
       "      <td>20.4</td>\n",
       "      <td>23.048156</td>\n",
       "      <td>-2.648156</td>\n",
       "      <td>2.648156</td>\n",
       "      <td>7.012731</td>\n",
       "    </tr>\n",
       "    <tr>\n",
       "      <th>126</th>\n",
       "      <td>23.1</td>\n",
       "      <td>24.730468</td>\n",
       "      <td>-1.630468</td>\n",
       "      <td>1.630468</td>\n",
       "      <td>2.658427</td>\n",
       "    </tr>\n",
       "  </tbody>\n",
       "</table>\n",
       "<p>127 rows × 5 columns</p>\n",
       "</div>"
      ],
      "text/plain": [
       "      실제값        예측값        오차     오차절대값       오차제곱\n",
       "0    23.6  28.838854 -5.238854  5.238854  27.445587\n",
       "1    32.4  36.007833 -3.607833  3.607833  13.016458\n",
       "2    13.6  15.083248 -1.483248  1.483248   2.200023\n",
       "3    22.8  25.230909 -2.430909  2.430909   5.909318\n",
       "4    16.1  18.878641 -2.778641  2.778641   7.720844\n",
       "..    ...        ...       ...       ...        ...\n",
       "122   8.8   3.284209  5.515791  5.515791  30.423951\n",
       "123  19.2  23.798796 -4.598796  4.598796  21.148926\n",
       "124  25.3  25.733299 -0.433299  0.433299   0.187748\n",
       "125  20.4  23.048156 -2.648156  2.648156   7.012731\n",
       "126  23.1  24.730468 -1.630468  1.630468   2.658427\n",
       "\n",
       "[127 rows x 5 columns]"
      ]
     },
     "execution_count": 15,
     "metadata": {},
     "output_type": "execute_result"
    }
   ],
   "source": [
    "dat['오차절대값'] = abs(dat['오차'])\n",
    "dat['오차제곱'] = dat['오차'] ** (2)\n",
    "dat"
   ]
  },
  {
   "cell_type": "code",
   "execution_count": 16,
   "metadata": {},
   "outputs": [
    {
     "name": "stdout",
     "output_type": "stream",
     "text": [
      "훈련 데이터 세트 점수 : 0.75\n",
      "테스트 데이터 세트 점수 : 0.68\n"
     ]
    }
   ],
   "source": [
    "# R^2의 값을 구하기- 결정계수 구하기\n",
    "print(\"훈련 데이터 세트 점수 : {:.2f}\".format(model.score(X_train, y_train)))\n",
    "print(\"테스트 데이터 세트 점수 : {:.2f}\".format(model.score(X_test, y_test)))"
   ]
  },
  {
   "cell_type": "markdown",
   "metadata": {},
   "source": [
    "### 선형모델 과적합 현상"
   ]
  },
  {
   "cell_type": "markdown",
   "metadata": {},
   "source": [
    "* 변수가 많을 때, \n",
    "  * 다중 공선성"
   ]
  },
  {
   "cell_type": "markdown",
   "metadata": {},
   "source": [
    "* 과적합이 일어날 때, w계수값을 제한을 가해준다."
   ]
  },
  {
   "cell_type": "markdown",
   "metadata": {},
   "source": [
    "* 랏소회귀(L1) : w의 값들을 0에 가깝게 해요. 어떤 친구는 0이 되어 버린다.\n",
    "    * 변수를 없애는것. 영향력이 작은 친구는 없앤다.\n",
    "    \n",
    "* 릿지회귀(L2) : w의 값들을 0에 가깝게 해요. 어떠한 친구도 0이 되지 않는다.\n",
    "    * 모든 변수를 살린다."
   ]
  },
  {
   "cell_type": "code",
   "execution_count": 17,
   "metadata": {},
   "outputs": [],
   "source": [
    "import mglearn"
   ]
  },
  {
   "cell_type": "code",
   "execution_count": 18,
   "metadata": {},
   "outputs": [],
   "source": [
    "from sklearn.datasets import load_boston\n",
    "from sklearn.model_selection import train_test_split\n",
    "from sklearn.preprocessing import MinMaxScaler, PolynomialFeatures\n",
    "from sklearn.linear_model import Ridge\n",
    "import pandas as pd"
   ]
  },
  {
   "cell_type": "code",
   "execution_count": 22,
   "metadata": {},
   "outputs": [
    {
     "name": "stdout",
     "output_type": "stream",
     "text": [
      "<class 'numpy.ndarray'> <class 'numpy.ndarray'>\n",
      "(506,) (506, 13)\n"
     ]
    },
    {
     "data": {
      "text/html": [
       "<div>\n",
       "<style scoped>\n",
       "    .dataframe tbody tr th:only-of-type {\n",
       "        vertical-align: middle;\n",
       "    }\n",
       "\n",
       "    .dataframe tbody tr th {\n",
       "        vertical-align: top;\n",
       "    }\n",
       "\n",
       "    .dataframe thead th {\n",
       "        text-align: right;\n",
       "    }\n",
       "</style>\n",
       "<table border=\"1\" class=\"dataframe\">\n",
       "  <thead>\n",
       "    <tr style=\"text-align: right;\">\n",
       "      <th></th>\n",
       "      <th>CRIM</th>\n",
       "      <th>ZN</th>\n",
       "      <th>INDUS</th>\n",
       "      <th>CHAS</th>\n",
       "      <th>NOX</th>\n",
       "      <th>RM</th>\n",
       "      <th>AGE</th>\n",
       "      <th>DIS</th>\n",
       "      <th>RAD</th>\n",
       "      <th>TAX</th>\n",
       "      <th>PTRATIO</th>\n",
       "      <th>B</th>\n",
       "      <th>LSTAT</th>\n",
       "      <th>price</th>\n",
       "    </tr>\n",
       "  </thead>\n",
       "  <tbody>\n",
       "    <tr>\n",
       "      <th>0</th>\n",
       "      <td>0.00632</td>\n",
       "      <td>18.0</td>\n",
       "      <td>2.31</td>\n",
       "      <td>0.0</td>\n",
       "      <td>0.538</td>\n",
       "      <td>6.575</td>\n",
       "      <td>65.2</td>\n",
       "      <td>4.0900</td>\n",
       "      <td>1.0</td>\n",
       "      <td>296.0</td>\n",
       "      <td>15.3</td>\n",
       "      <td>396.90</td>\n",
       "      <td>4.98</td>\n",
       "      <td>24.0</td>\n",
       "    </tr>\n",
       "    <tr>\n",
       "      <th>1</th>\n",
       "      <td>0.02731</td>\n",
       "      <td>0.0</td>\n",
       "      <td>7.07</td>\n",
       "      <td>0.0</td>\n",
       "      <td>0.469</td>\n",
       "      <td>6.421</td>\n",
       "      <td>78.9</td>\n",
       "      <td>4.9671</td>\n",
       "      <td>2.0</td>\n",
       "      <td>242.0</td>\n",
       "      <td>17.8</td>\n",
       "      <td>396.90</td>\n",
       "      <td>9.14</td>\n",
       "      <td>21.6</td>\n",
       "    </tr>\n",
       "    <tr>\n",
       "      <th>2</th>\n",
       "      <td>0.02729</td>\n",
       "      <td>0.0</td>\n",
       "      <td>7.07</td>\n",
       "      <td>0.0</td>\n",
       "      <td>0.469</td>\n",
       "      <td>7.185</td>\n",
       "      <td>61.1</td>\n",
       "      <td>4.9671</td>\n",
       "      <td>2.0</td>\n",
       "      <td>242.0</td>\n",
       "      <td>17.8</td>\n",
       "      <td>392.83</td>\n",
       "      <td>4.03</td>\n",
       "      <td>34.7</td>\n",
       "    </tr>\n",
       "    <tr>\n",
       "      <th>3</th>\n",
       "      <td>0.03237</td>\n",
       "      <td>0.0</td>\n",
       "      <td>2.18</td>\n",
       "      <td>0.0</td>\n",
       "      <td>0.458</td>\n",
       "      <td>6.998</td>\n",
       "      <td>45.8</td>\n",
       "      <td>6.0622</td>\n",
       "      <td>3.0</td>\n",
       "      <td>222.0</td>\n",
       "      <td>18.7</td>\n",
       "      <td>394.63</td>\n",
       "      <td>2.94</td>\n",
       "      <td>33.4</td>\n",
       "    </tr>\n",
       "    <tr>\n",
       "      <th>4</th>\n",
       "      <td>0.06905</td>\n",
       "      <td>0.0</td>\n",
       "      <td>2.18</td>\n",
       "      <td>0.0</td>\n",
       "      <td>0.458</td>\n",
       "      <td>7.147</td>\n",
       "      <td>54.2</td>\n",
       "      <td>6.0622</td>\n",
       "      <td>3.0</td>\n",
       "      <td>222.0</td>\n",
       "      <td>18.7</td>\n",
       "      <td>396.90</td>\n",
       "      <td>5.33</td>\n",
       "      <td>36.2</td>\n",
       "    </tr>\n",
       "    <tr>\n",
       "      <th>...</th>\n",
       "      <td>...</td>\n",
       "      <td>...</td>\n",
       "      <td>...</td>\n",
       "      <td>...</td>\n",
       "      <td>...</td>\n",
       "      <td>...</td>\n",
       "      <td>...</td>\n",
       "      <td>...</td>\n",
       "      <td>...</td>\n",
       "      <td>...</td>\n",
       "      <td>...</td>\n",
       "      <td>...</td>\n",
       "      <td>...</td>\n",
       "      <td>...</td>\n",
       "    </tr>\n",
       "    <tr>\n",
       "      <th>501</th>\n",
       "      <td>0.06263</td>\n",
       "      <td>0.0</td>\n",
       "      <td>11.93</td>\n",
       "      <td>0.0</td>\n",
       "      <td>0.573</td>\n",
       "      <td>6.593</td>\n",
       "      <td>69.1</td>\n",
       "      <td>2.4786</td>\n",
       "      <td>1.0</td>\n",
       "      <td>273.0</td>\n",
       "      <td>21.0</td>\n",
       "      <td>391.99</td>\n",
       "      <td>9.67</td>\n",
       "      <td>22.4</td>\n",
       "    </tr>\n",
       "    <tr>\n",
       "      <th>502</th>\n",
       "      <td>0.04527</td>\n",
       "      <td>0.0</td>\n",
       "      <td>11.93</td>\n",
       "      <td>0.0</td>\n",
       "      <td>0.573</td>\n",
       "      <td>6.120</td>\n",
       "      <td>76.7</td>\n",
       "      <td>2.2875</td>\n",
       "      <td>1.0</td>\n",
       "      <td>273.0</td>\n",
       "      <td>21.0</td>\n",
       "      <td>396.90</td>\n",
       "      <td>9.08</td>\n",
       "      <td>20.6</td>\n",
       "    </tr>\n",
       "    <tr>\n",
       "      <th>503</th>\n",
       "      <td>0.06076</td>\n",
       "      <td>0.0</td>\n",
       "      <td>11.93</td>\n",
       "      <td>0.0</td>\n",
       "      <td>0.573</td>\n",
       "      <td>6.976</td>\n",
       "      <td>91.0</td>\n",
       "      <td>2.1675</td>\n",
       "      <td>1.0</td>\n",
       "      <td>273.0</td>\n",
       "      <td>21.0</td>\n",
       "      <td>396.90</td>\n",
       "      <td>5.64</td>\n",
       "      <td>23.9</td>\n",
       "    </tr>\n",
       "    <tr>\n",
       "      <th>504</th>\n",
       "      <td>0.10959</td>\n",
       "      <td>0.0</td>\n",
       "      <td>11.93</td>\n",
       "      <td>0.0</td>\n",
       "      <td>0.573</td>\n",
       "      <td>6.794</td>\n",
       "      <td>89.3</td>\n",
       "      <td>2.3889</td>\n",
       "      <td>1.0</td>\n",
       "      <td>273.0</td>\n",
       "      <td>21.0</td>\n",
       "      <td>393.45</td>\n",
       "      <td>6.48</td>\n",
       "      <td>22.0</td>\n",
       "    </tr>\n",
       "    <tr>\n",
       "      <th>505</th>\n",
       "      <td>0.04741</td>\n",
       "      <td>0.0</td>\n",
       "      <td>11.93</td>\n",
       "      <td>0.0</td>\n",
       "      <td>0.573</td>\n",
       "      <td>6.030</td>\n",
       "      <td>80.8</td>\n",
       "      <td>2.5050</td>\n",
       "      <td>1.0</td>\n",
       "      <td>273.0</td>\n",
       "      <td>21.0</td>\n",
       "      <td>396.90</td>\n",
       "      <td>7.88</td>\n",
       "      <td>11.9</td>\n",
       "    </tr>\n",
       "  </tbody>\n",
       "</table>\n",
       "<p>506 rows × 14 columns</p>\n",
       "</div>"
      ],
      "text/plain": [
       "        CRIM    ZN  INDUS  CHAS    NOX     RM   AGE     DIS  RAD    TAX  \\\n",
       "0    0.00632  18.0   2.31   0.0  0.538  6.575  65.2  4.0900  1.0  296.0   \n",
       "1    0.02731   0.0   7.07   0.0  0.469  6.421  78.9  4.9671  2.0  242.0   \n",
       "2    0.02729   0.0   7.07   0.0  0.469  7.185  61.1  4.9671  2.0  242.0   \n",
       "3    0.03237   0.0   2.18   0.0  0.458  6.998  45.8  6.0622  3.0  222.0   \n",
       "4    0.06905   0.0   2.18   0.0  0.458  7.147  54.2  6.0622  3.0  222.0   \n",
       "..       ...   ...    ...   ...    ...    ...   ...     ...  ...    ...   \n",
       "501  0.06263   0.0  11.93   0.0  0.573  6.593  69.1  2.4786  1.0  273.0   \n",
       "502  0.04527   0.0  11.93   0.0  0.573  6.120  76.7  2.2875  1.0  273.0   \n",
       "503  0.06076   0.0  11.93   0.0  0.573  6.976  91.0  2.1675  1.0  273.0   \n",
       "504  0.10959   0.0  11.93   0.0  0.573  6.794  89.3  2.3889  1.0  273.0   \n",
       "505  0.04741   0.0  11.93   0.0  0.573  6.030  80.8  2.5050  1.0  273.0   \n",
       "\n",
       "     PTRATIO       B  LSTAT  price  \n",
       "0       15.3  396.90   4.98   24.0  \n",
       "1       17.8  396.90   9.14   21.6  \n",
       "2       17.8  392.83   4.03   34.7  \n",
       "3       18.7  394.63   2.94   33.4  \n",
       "4       18.7  396.90   5.33   36.2  \n",
       "..       ...     ...    ...    ...  \n",
       "501     21.0  391.99   9.67   22.4  \n",
       "502     21.0  396.90   9.08   20.6  \n",
       "503     21.0  396.90   5.64   23.9  \n",
       "504     21.0  393.45   6.48   22.0  \n",
       "505     21.0  396.90   7.88   11.9  \n",
       "\n",
       "[506 rows x 14 columns]"
      ]
     },
     "execution_count": 22,
     "metadata": {},
     "output_type": "execute_result"
    }
   ],
   "source": [
    "boston = load_boston()\n",
    "print(type(boston.target), type(boston.data))\n",
    "print(boston.target.shape, boston.data.shape)\n",
    "\n",
    "df_boston = pd.DataFrame(boston.data, columns=boston.feature_names)\n",
    "df_boston['price'] = boston.target\n",
    "df_boston"
   ]
  },
  {
   "cell_type": "code",
   "execution_count": 23,
   "metadata": {},
   "outputs": [],
   "source": [
    "### 데이터 준비\n",
    "### 입력, 출력 나누고, \n",
    "### 전처리 및 특징(feature) 추출, 데이터 분리\n",
    "### 모델 선택, 학습, 예측\n",
    "### 평가 "
   ]
  },
  {
   "cell_type": "code",
   "execution_count": 24,
   "metadata": {},
   "outputs": [
    {
     "data": {
      "text/plain": [
       "((506, 13), (506,))"
      ]
     },
     "execution_count": 24,
     "metadata": {},
     "output_type": "execute_result"
    }
   ],
   "source": [
    "X = df_boston.loc[ : , 'CRIM':'LSTAT'  ]\n",
    "y = boston.target\n",
    "\n",
    "X.shape, y.shape"
   ]
  },
  {
   "cell_type": "code",
   "execution_count": 51,
   "metadata": {},
   "outputs": [
    {
     "data": {
      "text/plain": [
       "(506, 104)"
      ]
     },
     "execution_count": 51,
     "metadata": {},
     "output_type": "execute_result"
    }
   ],
   "source": [
    "nor_X = MinMaxScaler().fit_transform(X)\n",
    "ex_X = PolynomialFeatures(degree=2, include_bias=False).fit_transform(nor_X)\n",
    "ex_X.shape"
   ]
  },
  {
   "cell_type": "markdown",
   "metadata": {},
   "source": [
    "### 데이터 나누기"
   ]
  },
  {
   "cell_type": "code",
   "execution_count": 57,
   "metadata": {},
   "outputs": [],
   "source": [
    "X_train, X_test, y_train, y_test = train_test_split(ex_X, y, \n",
    "                                                    random_state=42)"
   ]
  },
  {
   "cell_type": "code",
   "execution_count": 58,
   "metadata": {},
   "outputs": [],
   "source": [
    "from sklearn.linear_model import LinearRegression"
   ]
  },
  {
   "cell_type": "code",
   "execution_count": 59,
   "metadata": {},
   "outputs": [
    {
     "name": "stdout",
     "output_type": "stream",
     "text": [
      "학습용 데이터 결정계수 : 0.94\n",
      "테스트 데이터 결정계수 : 0.78\n"
     ]
    }
   ],
   "source": [
    "model = LinearRegression()\n",
    "model.fit(X_train, y_train)\n",
    "print(\"학습용 데이터 결정계수 : {:.2f}\".format(model.score(X_train, y_train)))\n",
    "print(\"테스트 데이터 결정계수 : {:.2f}\".format(model.score(X_test, y_test)))"
   ]
  },
  {
   "cell_type": "code",
   "execution_count": 60,
   "metadata": {},
   "outputs": [],
   "source": [
    "from sklearn.linear_model import Ridge, Lasso"
   ]
  },
  {
   "cell_type": "code",
   "execution_count": 61,
   "metadata": {},
   "outputs": [
    {
     "name": "stdout",
     "output_type": "stream",
     "text": [
      "학습용 데이터 세트 결정계수 : 0.92\n",
      "테스트 데이터 세트 결정계수 : 0.82\n"
     ]
    }
   ],
   "source": [
    "model = Ridge(alpha=0.1).fit(X_train, y_train)\n",
    "print(\"학습용 데이터 세트 결정계수 : {:.2f}\".format(model.score(X_train, y_train)))\n",
    "print(\"테스트 데이터 세트 결정계수 : {:.2f}\".format(model.score(X_test, y_test)))"
   ]
  },
  {
   "cell_type": "code",
   "execution_count": 65,
   "metadata": {},
   "outputs": [
    {
     "name": "stdout",
     "output_type": "stream",
     "text": [
      "학습용 데이터 세트 결정계수 : 0.89\n",
      "테스트 데이터 세트 결정계수 : 0.80\n"
     ]
    },
    {
     "name": "stderr",
     "output_type": "stream",
     "text": [
      "C:\\Users\\front\\anaconda3\\lib\\site-packages\\sklearn\\linear_model\\_coordinate_descent.py:529: ConvergenceWarning: Objective did not converge. You might want to increase the number of iterations. Duality gap: 6.848133364149362, tolerance: 3.361037625329815\n",
      "  model = cd_fast.enet_coordinate_descent(\n"
     ]
    }
   ],
   "source": [
    "model = Lasso(alpha=0.01).fit(X_train, y_train)\n",
    "print(\"학습용 데이터 세트 결정계수 : {:.2f}\".format(model.score(X_train, y_train)))\n",
    "print(\"테스트 데이터 세트 결정계수 : {:.2f}\".format(model.score(X_test, y_test)))"
   ]
  },
  {
   "cell_type": "code",
   "execution_count": 74,
   "metadata": {},
   "outputs": [
    {
     "name": "stdout",
     "output_type": "stream",
     "text": [
      "Ridge(alpha=0.01)\n",
      "훈련 세트 점수 : 0.94\n",
      "테스트 세트 점수 : 0.81\n"
     ]
    }
   ],
   "source": [
    "ridge001 = Ridge(alpha=0.01).fit(X_train, y_train)\n",
    "print(ridge001)\n",
    "print(\"훈련 세트 점수 : {:.2f}\".format(ridge001.score(X_train, y_train)))\n",
    "print(\"테스트 세트 점수 : {:.2f}\".format(ridge001.score(X_test, y_test)))"
   ]
  },
  {
   "cell_type": "code",
   "execution_count": 75,
   "metadata": {},
   "outputs": [
    {
     "name": "stdout",
     "output_type": "stream",
     "text": [
      "Ridge(alpha=0.1)\n",
      "훈련 세트 점수 : 0.92\n",
      "테스트 세트 점수 : 0.82\n"
     ]
    }
   ],
   "source": [
    "ridge01 = Ridge(alpha=0.1).fit(X_train, y_train)\n",
    "print(ridge01)\n",
    "print(\"훈련 세트 점수 : {:.2f}\".format(ridge01.score(X_train, y_train)))\n",
    "print(\"테스트 세트 점수 : {:.2f}\".format(ridge01.score(X_test, y_test)))"
   ]
  },
  {
   "cell_type": "code",
   "execution_count": 76,
   "metadata": {},
   "outputs": [
    {
     "name": "stdout",
     "output_type": "stream",
     "text": [
      "Ridge(alpha=1)\n",
      "훈련 세트 점수 : 0.87\n",
      "테스트 세트 점수 : 0.81\n"
     ]
    }
   ],
   "source": [
    "ridge1 = Ridge(alpha=1).fit(X_train, y_train)\n",
    "print(ridge1)\n",
    "print(\"훈련 세트 점수 : {:.2f}\".format(ridge1.score(X_train, y_train)))\n",
    "print(\"테스트 세트 점수 : {:.2f}\".format(ridge1.score(X_test, y_test)))"
   ]
  },
  {
   "cell_type": "code",
   "execution_count": 77,
   "metadata": {},
   "outputs": [
    {
     "name": "stdout",
     "output_type": "stream",
     "text": [
      "Ridge(alpha=10)\n",
      "훈련 세트 점수 : 0.77\n",
      "테스트 세트 점수 : 0.73\n"
     ]
    }
   ],
   "source": [
    "ridge10 = Ridge(alpha=10).fit(X_train, y_train)\n",
    "print(ridge10)\n",
    "print(\"훈련 세트 점수 : {:.2f}\".format(ridge10.score(X_train, y_train)))\n",
    "print(\"테스트 세트 점수 : {:.2f}\".format(ridge10.score(X_test, y_test)))"
   ]
  },
  {
   "cell_type": "code",
   "execution_count": 81,
   "metadata": {},
   "outputs": [
    {
     "data": {
      "text/plain": [
       "array([-8.74524970e-01,  3.74153966e-01, -5.37191658e-01,  4.53586968e-01,\n",
       "       -8.15963925e-01,  4.80636190e+00, -2.88506643e-01, -2.38249397e+00,\n",
       "        9.93098394e-01, -9.07184758e-01, -1.99590641e+00,  1.23744798e+00,\n",
       "       -4.24598011e+00, -7.73437857e-01,  3.42301983e-03, -5.66607754e-01,\n",
       "        2.50207988e-01, -6.47237726e-01, -7.68604076e-01, -7.85761746e-01,\n",
       "       -7.62482023e-02, -8.97956236e-01, -8.15721900e-01, -7.27219784e-01,\n",
       "       -7.23636498e-01, -5.05561216e-01,  6.41377060e-01, -2.03532600e-01,\n",
       "        7.22065507e-01,  2.91451872e-01,  1.51896935e+00, -8.91051400e-02,\n",
       "       -2.34537621e-01, -5.53427855e-02, -1.98367137e-01, -3.48947550e-02,\n",
       "        4.03606579e-01, -5.53847205e-01,  7.58993451e-01,  3.93520570e-01,\n",
       "       -7.78852421e-01, -4.83501941e-01,  1.80828848e-01, -1.04042906e+00,\n",
       "        3.41226328e-01,  5.57759083e-01, -4.85625572e-01,  3.00283500e-01,\n",
       "       -1.44355231e+00,  4.53586968e-01, -1.13170406e+00,  7.10542026e-01,\n",
       "        3.68804814e-01, -1.54611682e-01,  1.71374152e+00,  1.44632723e+00,\n",
       "        6.13884514e-01,  8.49642507e-01, -1.38390111e+00, -1.76929503e+00,\n",
       "       -8.20168708e-02, -8.47510314e-01, -6.15145473e-01, -5.27860727e-01,\n",
       "       -9.17081862e-01, -1.35110664e+00,  1.01245821e-01, -1.66424625e+00,\n",
       "        7.81843297e+00,  1.71403570e+00,  5.74254353e-01, -1.13280060e+00,\n",
       "       -1.70050980e+00, -8.32443540e-01,  5.76814066e+00, -3.21345925e+00,\n",
       "        6.69065589e-01, -1.95303761e+00,  8.72963954e-01, -1.61656175e-01,\n",
       "       -2.04050232e+00,  5.01511853e-01, -3.23341153e+00, -9.44063445e-01,\n",
       "       -5.50620473e-01, -1.28111249e+00, -1.37127880e+00, -2.21535625e+00,\n",
       "       -1.40994192e+00,  6.06522337e-01,  3.77093520e-01,  3.65102403e-01,\n",
       "        1.58470380e+00, -2.13836494e+00,  2.35581546e-01, -3.43599950e-01,\n",
       "       -9.29790951e-02, -2.23143553e+00, -1.32698752e+00, -1.41666110e+00,\n",
       "       -2.23993441e+00,  9.26472183e-01, -3.55520243e+00,  1.81053143e-01])"
      ]
     },
     "execution_count": 81,
     "metadata": {},
     "output_type": "execute_result"
    }
   ],
   "source": [
    "ridge10.coef_"
   ]
  },
  {
   "cell_type": "code",
   "execution_count": 82,
   "metadata": {},
   "outputs": [
    {
     "data": {
      "text/plain": [
       "Text(0.5, 1.0, 'Ridge alpha=10')"
      ]
     },
     "execution_count": 82,
     "metadata": {},
     "output_type": "execute_result"
    },
    {
     "data": {
      "image/png": "[encoded data removed]",
      "text/plain": [
       "<Figure size 864x864 with 4 Axes>"
      ]
     },
     "metadata": {
      "needs_background": "light"
     },
     "output_type": "display_data"
    }
   ],
   "source": [
    "fig = plt.figure(figsize=(12,12))\n",
    "\n",
    "plt.subplot(2, 2, 1)\n",
    "plt.hlines(0,0, len(ridge001.coef_))\n",
    "plt.plot(ridge001.coef_, 's', label=\"Ridge alpha=0.01\")\n",
    "plt.title('Ridge alpha=0.01')\n",
    "\n",
    "plt.subplot(2, 2, 2)\n",
    "plt.hlines(0,0, len(ridge01.coef_))\n",
    "plt.plot(ridge01.coef_, 's', label=\"Ridge alpha=0.1\")\n",
    "plt.title('Ridge alpha=0.1')\n",
    "\n",
    "plt.subplot(2, 2, 3)\n",
    "plt.hlines(0,0, len(ridge1.coef_))\n",
    "plt.plot(ridge1.coef_, 's', label=\"Ridge alpha=1\")\n",
    "plt.title('Ridge alpha=1')\n",
    "\n",
    "plt.subplot(2, 2, 4)\n",
    "plt.hlines(0,0, len(ridge10.coef_))\n",
    "plt.plot(ridge10.coef_, 's', label=\"Ridge alpha=10\")\n",
    "plt.title('Ridge alpha=10')"
   ]
  },
  {
   "cell_type": "code",
   "execution_count": 83,
   "metadata": {},
   "outputs": [
    {
     "data": {
      "image/png": "[encoded data removed]",
      "text/plain": [
       "<Figure size 432x288 with 1 Axes>"
      ]
     },
     "metadata": {
      "needs_background": "light"
     },
     "output_type": "display_data"
    }
   ],
   "source": [
    "mglearn.plots.plot_ridge_n_samples()"
   ]
  },
  {
   "cell_type": "code",
   "execution_count": 84,
   "metadata": {},
   "outputs": [],
   "source": [
    "from sklearn.linear_model import Lasso\n",
    "import numpy as np"
   ]
  },
  {
   "cell_type": "code",
   "execution_count": null,
   "metadata": {},
   "outputs": [],
   "source": []
  },
  {
   "cell_type": "code",
   "execution_count": null,
   "metadata": {},
   "outputs": [],
   "source": []
  }
 ],
 "metadata": {
  "kernelspec": {
   "display_name": "Python 3",
   "language": "python",
   "name": "python3"
  },
  "language_info": {
   "codemirror_mode": {
    "name": "ipython",
    "version": 3
   },
   "file_extension": ".py",
   "mimetype": "text/x-python",
   "name": "python",
   "nbconvert_exporter": "python",
   "pygments_lexer": "ipython3",
   "version": "3.8.5"
  }
 },
 "nbformat": 4,
 "nbformat_minor": 4
}
